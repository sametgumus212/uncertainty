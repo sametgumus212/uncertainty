{
  "nbformat": 4,
  "nbformat_minor": 0,
  "metadata": {
    "colab": {
      "name": "montecarlo.ipynb",
      "provenance": [],
      "authorship_tag": "ABX9TyNBaoH4f1Ib+buYjDUnhQCe",
      "include_colab_link": true
    },
    "kernelspec": {
      "name": "python3",
      "display_name": "Python 3"
    }
  },
  "cells": [
    {
      "cell_type": "markdown",
      "metadata": {
        "id": "view-in-github",
        "colab_type": "text"
      },
      "source": [
        "<a href=\"https://colab.research.google.com/github/sametgumus212/uncertainty/blob/main/montecarlo.ipynb\" target=\"_parent\"><img src=\"https://colab.research.google.com/assets/colab-badge.svg\" alt=\"Open In Colab\"/></a>"
      ]
    },
    {
      "cell_type": "code",
      "metadata": {
        "colab": {
          "base_uri": "https://localhost:8080/"
        },
        "id": "BjYaPohZlyQE",
        "outputId": "f1ae0553-1363-4fef-b449-659474a273df"
      },
      "source": [
        "%matplotlib inline\n",
        "import numpy as np\n",
        "import matplotlib.pyplot as plt\n",
        "d=3.2\n",
        "t=0.6\n",
        "m=45.4\n",
        "V=np.pi*(d/2)**2*t\n",
        "rho=m/V\n",
        "print(\"Yoğunluk = {0:5.2f} g/cm^3\".format(rho))\n"
      ],
      "execution_count": null,
      "outputs": [
        {
          "output_type": "stream",
          "text": [
            "Yoğunluk =  9.41 g/cm^3\n"
          ],
          "name": "stdout"
        }
      ]
    },
    {
      "cell_type": "code",
      "metadata": {
        "colab": {
          "base_uri": "https://localhost:8080/",
          "height": 298
        },
        "id": "tgqqpzjNrp0C",
        "outputId": "4f2283dc-c8b7-40bc-bc9e-4d179b87bf49"
      },
      "source": [
        "sigma_d=0.1\n",
        "sigma_t=0.1\n",
        "sigma_m=0.1\n",
        "N=10000\n",
        "dMC=d+sigma_d*np.random.normal(size=N)\n",
        "tMC=t+sigma_t*np.random.normal(size=N)\n",
        "mMC=m+sigma_m*np.random.normal(size=N)\n",
        "\n",
        "VMC=np.pi*(dMC/2)**2*tMC\n",
        "rhoMC=mMC/VMC\n",
        "\n",
        "plt.hist(rhoMC,bins=np.linspace(5,20,21))\n",
        "plt.grid()\n",
        "plt.title(\"MonteCarlo Yoğunluk Tahmini\")\n",
        "plt.xlim(5,20)"
      ],
      "execution_count": null,
      "outputs": [
        {
          "output_type": "execute_result",
          "data": {
            "text/plain": [
              "(5.0, 20.0)"
            ]
          },
          "metadata": {
            "tags": []
          },
          "execution_count": 9
        },
        {
          "output_type": "display_data",
          "data": {
            "image/png": "[encoded data removed]",
            "text/plain": [
              "<Figure size 432x288 with 1 Axes>"
            ]
          },
          "metadata": {
            "tags": [],
            "needs_background": "light"
          }
        }
      ]
    },
    {
      "cell_type": "code",
      "metadata": {
        "colab": {
          "base_uri": "https://localhost:8080/"
        },
        "id": "onofmqoitk4Q",
        "outputId": "442e47c1-caba-4564-e213-1abdad64f8e3"
      },
      "source": [
        "print(\"Rho tahmini: {0:5.3f}  +/-  {1:5.3f} g/cm^3\" .format(rhoMC.mean(),2*rhoMC.std()))"
      ],
      "execution_count": null,
      "outputs": [
        {
          "output_type": "stream",
          "text": [
            "Rho tahmini: 9.737  +/-  3.797 g/cm^3\n"
          ],
          "name": "stdout"
        }
      ]
    },
    {
      "cell_type": "code",
      "metadata": {
        "id": "0rvL5jMvorWo"
      },
      "source": [
        "import random"
      ],
      "execution_count": null,
      "outputs": []
    },
    {
      "cell_type": "code",
      "metadata": {
        "id": "KbpCXm4Wv7hU"
      },
      "source": [
        "class FairRoulette():\n",
        "  \n",
        "  def __init__(self):\n",
        "    self.pockets=[]\n",
        "    for i in range(1,37):\n",
        "      self.pockets.append(i)\n",
        "    self.ball=None\n",
        "    self.pocketOdds=len(self.pockets)-1\n",
        "  def spin(self):\n",
        "    self.ball=random.choice(self.pockets)\n",
        "  def betPocket(self,pocket,amt):\n",
        "    if str(pocket)==str(self.ball):\n",
        "      return amt*self.pocketOdds\n",
        "    else: return -amt\n",
        "  def __str__(self):\n",
        "    return 'Fair Roulette'"
      ],
      "execution_count": null,
      "outputs": []
    },
    {
      "cell_type": "code",
      "metadata": {
        "id": "WXrP8rvk4d9_"
      },
      "source": [
        "class EuRoulette(FairRoulette):\n",
        "  def __init__(self):\n",
        "    FairRoulette.__init__(self)\n",
        "    self.pockets.append('0')\n",
        "  def __str__(self):\n",
        "    return 'European Roulette'"
      ],
      "execution_count": null,
      "outputs": []
    },
    {
      "cell_type": "code",
      "metadata": {
        "id": "ng_RJfSyz3hE"
      },
      "source": [
        "def playRoulette(game,numSpins,pocket,bet,toPrint):\n",
        "  totPocket=0\n",
        "  for i in range(numSpins):\n",
        "    \n",
        "    game.spin()\n",
        "    totPocket +=game.betPocket(pocket,bet)\n",
        "  if toPrint:\n",
        "    print(numSpins,'spins of', game)\n",
        "    print('Expected return betting', pocket, '=',str(100*totPocket/numSpins)+ '%\\n')\n",
        "  return (totPocket/numSpins)\n",
        "\n"
      ],
      "execution_count": null,
      "outputs": []
    },
    {
      "cell_type": "code",
      "metadata": {
        "colab": {
          "base_uri": "https://localhost:8080/"
        },
        "id": "YGdV-Ikc1RHJ",
        "outputId": "51265f19-76ee-49e1-9d89-d7a39a7d8246"
      },
      "source": [
        "random.seed(0)\n",
        "game=FairRoulette()\n",
        "for numSpins in(100,1000000):\n",
        "  for i in range(2):\n",
        "    playRoulette(game,numSpins,2,1,True)"
      ],
      "execution_count": null,
      "outputs": [
        {
          "output_type": "stream",
          "text": [
            "100 spins of Fair Roulette\n",
            "Expected return betting 2 = -100.0%\n",
            "\n",
            "100 spins of Fair Roulette\n",
            "Expected return betting 2 = 44.0%\n",
            "\n",
            "1000000 spins of Fair Roulette\n",
            "Expected return betting 2 = -0.0424%\n",
            "\n",
            "1000000 spins of Fair Roulette\n",
            "Expected return betting 2 = 0.5876%\n",
            "\n"
          ],
          "name": "stdout"
        }
      ]
    },
    {
      "cell_type": "code",
      "metadata": {
        "colab": {
          "base_uri": "https://localhost:8080/"
        },
        "id": "BL09wgpR8dXD",
        "outputId": "b6afb8a2-7b26-4a1b-dfc0-1fefb574e917"
      },
      "source": [
        "random.seed(0)\n",
        "game=EuRoulette()\n",
        "for numSpins in(100,1000000):\n",
        "  for i in range(3):\n",
        "    playRoulette(game,numSpins,2,1,True)"
      ],
      "execution_count": null,
      "outputs": [
        {
          "output_type": "stream",
          "text": [
            "100 spins of European Roulette\n",
            "Expected return betting 2 = -32.0%\n",
            "\n",
            "100 spins of European Roulette\n",
            "Expected return betting 2 = -52.0%\n",
            "\n",
            "100 spins of European Roulette\n",
            "Expected return betting 2 = -36.0%\n",
            "\n",
            "1000000 spins of European Roulette\n",
            "Expected return betting 2 = -33.3242%\n",
            "\n",
            "1000000 spins of European Roulette\n",
            "Expected return betting 2 = -33.3864%\n",
            "\n",
            "1000000 spins of European Roulette\n",
            "Expected return betting 2 = -33.4354%\n",
            "\n"
          ],
          "name": "stdout"
        }
      ]
    }
  ]
}